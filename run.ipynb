{
 "cells": [
  {
   "cell_type": "markdown",
   "metadata": {},
   "source": [
    "## Imports"
   ]
  },
  {
   "cell_type": "code",
   "execution_count": 1,
   "metadata": {},
   "outputs": [],
   "source": [
    "from src.ragtag.db.db_connection import DBConnection\n",
    "from src.ragtag.backend.ragtag import RagTag"
   ]
  },
  {
   "cell_type": "markdown",
   "metadata": {},
   "source": [
    "## Setup and methods def"
   ]
  },
  {
   "cell_type": "code",
   "execution_count": 2,
   "metadata": {},
   "outputs": [],
   "source": [
    "class RagTagIntegration():\n",
    "    def __init__(self):\n",
    "        self.db_path = \"test_database.db\"\n",
    "        \n",
    "        self.ragtag = RagTag(DBConnection(self.db_path))\n",
    "\n",
    "    def add_test_documents(self):\n",
    "        documents = [\n",
    "            \"Python is a programming language with a simple syntax.\",\n",
    "            \"To create a list in Python, use square brackets.\",\n",
    "            \"Pancakes usually contain flour, eggs, and milk.\"\n",
    "        ]\n",
    "        return self.ragtag.add_documents_bulk(documents)\n"
   ]
  },
  {
   "cell_type": "markdown",
   "metadata": {},
   "source": [
    "## Instantiate RAG Engine\n",
    "### Add test documents"
   ]
  },
  {
   "cell_type": "code",
   "execution_count": 3,
   "metadata": {},
   "outputs": [
    {
     "data": {
      "text/plain": [
       "[9, 10, 11]"
      ]
     },
     "execution_count": 3,
     "metadata": {},
     "output_type": "execute_result"
    }
   ],
   "source": [
    "rageng = RagTagIntegration()\n",
    "rageng.add_test_documents()"
   ]
  },
  {
   "cell_type": "markdown",
   "metadata": {},
   "source": [
    "## Run a search"
   ]
  },
  {
   "cell_type": "code",
   "execution_count": 4,
   "metadata": {},
   "outputs": [
    {
     "name": "stdout",
     "output_type": "stream",
     "text": [
      "Found 2 documents matching 'Python':\n",
      "\n",
      "[(9, 0.9515364944314393), (10, 0.9515364944314393)]\n",
      "['Python is a programming language with a simple syntax.', 'To create a list in Python, use square brackets.']\n",
      "Found 1  documents matching 'Pancakes':\n",
      "\n",
      "[(11, 1.7301953284985192)]\n",
      "['Pancakes usually contain flour, eggs, and milk.']\n"
     ]
    }
   ],
   "source": [
    "# Search for documents containing the word \"Python\"\n",
    "search_results = rageng.ragtag.search_documents(\"Python\")\n",
    "print(f\"Found {len(search_results)} documents matching 'Python':\\n\\n{search_results}\")\n",
    "print([rageng.ragtag.document_dao.read_document(doc[0]) for doc in search_results])\n",
    "\n",
    "# Search for documents containing the word \"Pancakes\"\n",
    "search_results = rageng.ragtag.search_documents(\"Pancakes\")\n",
    "print(f\"Found {len(search_results)}  documents matching 'Pancakes':\\n\\n{search_results}\")\n",
    "print([rageng.ragtag.document_dao.read_document(doc[0]) for doc in search_results])\n"
   ]
  }
 ],
 "metadata": {
  "kernelspec": {
   "display_name": "venv",
   "language": "python",
   "name": "python3"
  },
  "language_info": {
   "codemirror_mode": {
    "name": "ipython",
    "version": 3
   },
   "file_extension": ".py",
   "mimetype": "text/x-python",
   "name": "python",
   "nbconvert_exporter": "python",
   "pygments_lexer": "ipython3",
   "version": "3.12.6"
  }
 },
 "nbformat": 4,
 "nbformat_minor": 2
}
