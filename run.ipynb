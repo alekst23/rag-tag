{
 "cells": [
  {
   "cell_type": "markdown",
   "metadata": {},
   "source": [
    "## Imports"
   ]
  },
  {
   "cell_type": "code",
   "execution_count": 1,
   "metadata": {},
   "outputs": [],
   "source": [
    "from src.db.db_connection import DBConnection\n",
    "from src.backend.ragtag import RagTag"
   ]
  },
  {
   "cell_type": "markdown",
   "metadata": {},
   "source": [
    "## Setup and methods def"
   ]
  },
  {
   "cell_type": "code",
   "execution_count": 2,
   "metadata": {},
   "outputs": [],
   "source": [
    "class RagTagIntegration():\n",
    "    def __init__(self):\n",
    "        self.db_path = \"test_database.db\"\n",
    "        self.db_connection = DBConnection(self.db_path)\n",
    "        \n",
    "        self.conn = self.db_connection.create_connection()\n",
    "        self.setupDatabaseSchema()\n",
    "        self.ragtag = RagTag(self.db_connection)\n",
    "\n",
    "    def setupDatabaseSchema(self):\n",
    "        schema_files = [\n",
    "            'src/db/schema/create_docs_table.sql',\n",
    "            'src/db/schema/create_tags_table.sql',\n",
    "            'src/db/schema/create_doc_tags_table.sql'\n",
    "        ]\n",
    "        cursor = self.conn.cursor()\n",
    "        for script_path in schema_files:\n",
    "            with open(script_path, 'r') as sql_file:\n",
    "                sql_script = sql_file.read()\n",
    "            cursor.executescript(sql_script)\n",
    "        self.conn.commit()\n",
    "    \n",
    "    def tearDownDB(self):\n",
    "        cursor = self.conn.cursor()\n",
    "        cursor.execute(\"DROP TABLE docs\")\n",
    "        cursor.execute(\"DROP TABLE tags\")\n",
    "        cursor.execute(\"DROP TABLE doc_tags\")\n",
    "        self.conn.commit()\n",
    "\n",
    "        cursor.close()\n",
    "        self.conn.close()\n",
    "\n",
    "    def add_test_documents(self):\n",
    "        documents = [\n",
    "            \"Python is a programming language with a simple syntax.\",\n",
    "            \"To create a list in Python, use square brackets.\",\n",
    "            \"Pancakes usually contain flour, eggs, and milk.\"\n",
    "        ]\n",
    "        return self.ragtag.add_documents_bulk(documents)\n"
   ]
  },
  {
   "cell_type": "markdown",
   "metadata": {},
   "source": [
    "## Instantiate RAG Engine\n",
    "### Add test documents"
   ]
  },
  {
   "cell_type": "code",
   "execution_count": 3,
   "metadata": {},
   "outputs": [
    {
     "data": {
      "text/plain": [
       "[1, 2, 3]"
      ]
     },
     "execution_count": 3,
     "metadata": {},
     "output_type": "execute_result"
    }
   ],
   "source": [
    "rageng = RagTagIntegration()\n",
    "rageng.add_test_documents()"
   ]
  },
  {
   "cell_type": "markdown",
   "metadata": {},
   "source": [
    "## Run a search"
   ]
  },
  {
   "cell_type": "code",
   "execution_count": 4,
   "metadata": {},
   "outputs": [
    {
     "name": "stdout",
     "output_type": "stream",
     "text": [
      "Found 2 documents matching 'Python':\n",
      "\n",
      "[(1, 0.951409296927534), (2, 0.951409296927534)]\n",
      "['Python is a programming language with a simple syntax.', 'To create a list in Python, use square brackets.']\n",
      "Found 1  documents matching 'Pancakes':\n",
      "\n",
      "[(3, 1.7301927164785618)]\n",
      "['Pancakes usually contain flour, eggs, and milk.']\n"
     ]
    }
   ],
   "source": [
    "# Search for documents containing the word \"Python\"\n",
    "search_results = rageng.ragtag.search_documents(\"Python\")\n",
    "print(f\"Found {len(search_results)} documents matching 'Python':\\n\\n{search_results}\")\n",
    "print([rageng.ragtag.document_dao.read_document(doc[0]) for doc in search_results])\n",
    "\n",
    "# Search for documents containing the word \"Pancakes\"\n",
    "search_results = rageng.ragtag.search_documents(\"Pancakes\")\n",
    "print(f\"Found {len(search_results)}  documents matching 'Pancakes':\\n\\n{search_results}\")\n",
    "print([rageng.ragtag.document_dao.read_document(doc[0]) for doc in search_results])\n"
   ]
  },
  {
   "cell_type": "markdown",
   "metadata": {},
   "source": [
    "## Cleanup"
   ]
  },
  {
   "cell_type": "code",
   "execution_count": 5,
   "metadata": {},
   "outputs": [],
   "source": [
    "rageng.tearDownDB()"
   ]
  }
 ],
 "metadata": {
  "kernelspec": {
   "display_name": "venv",
   "language": "python",
   "name": "python3"
  },
  "language_info": {
   "codemirror_mode": {
    "name": "ipython",
    "version": 3
   },
   "file_extension": ".py",
   "mimetype": "text/x-python",
   "name": "python",
   "nbconvert_exporter": "python",
   "pygments_lexer": "ipython3",
   "version": "3.12.3"
  }
 },
 "nbformat": 4,
 "nbformat_minor": 2
}
